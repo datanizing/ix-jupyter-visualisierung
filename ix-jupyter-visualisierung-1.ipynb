{
 "cells": [
  {
   "cell_type": "markdown",
   "metadata": {
    "id": "omVS5meP6AES"
   },
   "source": [
    "# Dataset"
   ]
  },
  {
   "cell_type": "code",
   "execution_count": null,
   "metadata": {
    "id": "qQ-0Pooa6AES"
   },
   "outputs": [],
   "source": [
    "!pip install eurostat"
   ]
  },
  {
   "cell_type": "code",
   "execution_count": null,
   "metadata": {
    "id": "1ynnGAHU6AET"
   },
   "outputs": [],
   "source": [
    "import pandas as pd\n",
    "import eurostat\n",
    "df = eurostat.get_data_df(\"ei_bsco_m\")\n",
    "df"
   ]
  },
  {
   "cell_type": "code",
   "execution_count": null,
   "metadata": {
    "id": "BU1Ya4ni6AET"
   },
   "outputs": [],
   "source": [
    "df[[\"indic\", \"s_adj\", \"unit\", \"geo\\\\time\"]].describe()"
   ]
  },
  {
   "cell_type": "code",
   "execution_count": null,
   "metadata": {
    "id": "vznS8VVy6AET"
   },
   "outputs": [],
   "source": [
    "df[\"indic\"].unique()"
   ]
  },
  {
   "cell_type": "markdown",
   "metadata": {
    "id": "3oLbvPOr6AET"
   },
   "source": [
    "Spalten aufräumen"
   ]
  },
  {
   "cell_type": "code",
   "execution_count": null,
   "metadata": {
    "id": "K-Kxuppd6AET"
   },
   "outputs": [],
   "source": [
    "df = df.rename(columns={\"geo\\\\time\": \"country\"})"
   ]
  },
  {
   "cell_type": "code",
   "execution_count": null,
   "metadata": {
    "id": "9o7YQfxL6AET"
   },
   "outputs": [],
   "source": []
  },
  {
   "cell_type": "code",
   "execution_count": null,
   "metadata": {
    "id": "D9I3f8Ql6AET"
   },
   "outputs": [],
   "source": [
    "from datetime import datetime\n",
    "df.columns = [datetime.strptime(f.split(\"M\")[0] + \"-\" + f.split(\"M\")[1] + \"-01\", \"%Y-%m-%d\")\n",
    "                if f.startswith(\"20\") or f.startswith(\"19\") else f for f in df.columns]"
   ]
  },
  {
   "cell_type": "code",
   "execution_count": null,
   "metadata": {
    "id": "f-aPLYfY6AET"
   },
   "outputs": [],
   "source": [
    "realnames_i = eurostat.get_dic('indic')\n",
    "[f'{i}: {realnames_i[i]}' for i in df[\"indic\"].unique()]"
   ]
  },
  {
   "cell_type": "markdown",
   "metadata": {
    "id": "EXXFxWDf6AEU"
   },
   "source": [
    "# Zeitreihen"
   ]
  },
  {
   "cell_type": "code",
   "execution_count": null,
   "metadata": {
    "id": "fYnt1L2l6AEU"
   },
   "outputs": [],
   "source": [
    "# Länder wählen\n",
    "cci_mix = df[(df[\"country\"].isin([\"DE\", \"EA19\", \"SE\"])) & \n",
    "             (df[\"indic\"] == \"BS-CSMCI\") & (df[\"s_adj\"] == \"NSA\")]\n",
    "# nur bestimmte Spalte behalten und transponieren (Zeit nach unten)\n",
    "cci_mix = cci_mix[[c for c in cci_mix.columns \n",
    "                     if (isinstance(c, datetime) and c.year>=2000) or c == \"country\"]].set_index(\"country\").transpose()\n",
    "# Index in Zeit wandeln\n",
    "cci_mix.index = pd.DatetimeIndex(cci_mix.index)"
   ]
  },
  {
   "cell_type": "code",
   "execution_count": null,
   "metadata": {
    "id": "Yjln1Po86AEU"
   },
   "outputs": [],
   "source": [
    "cci_mix.plot()"
   ]
  },
  {
   "cell_type": "code",
   "execution_count": null,
   "metadata": {
    "id": "kRy_wa4R6AEU"
   },
   "outputs": [],
   "source": [
    "cci_mix.resample(\"Q\").mean().plot()"
   ]
  },
  {
   "cell_type": "markdown",
   "metadata": {
    "id": "8rIkPDoe6AET"
   },
   "source": [
    "# Balkendiagramm und Histogramm"
   ]
  },
  {
   "cell_type": "markdown",
   "metadata": {
    "id": "DmEmbj2M6AEU"
   },
   "source": [
    "## Barchart"
   ]
  },
  {
   "cell_type": "code",
   "execution_count": null,
   "metadata": {
    "id": "uNQW3lRW6AEU"
   },
   "outputs": [],
   "source": [
    "de_cci = df[(df[\"country\"] == \"DE\") & (df[\"indic\"] == \"BS-CSMCI\") & (df[\"s_adj\"] == \"NSA\")]\n",
    "de_cci = de_cci[[c for c in de_cci.columns if isinstance(c, datetime) and (c.year==2020 or c.year==2019)]]\n",
    "de_cci.index = [\"Consumer confidence indicator\"]\n",
    "de_cci.transpose()[::-1].plot.bar(figsize=(16,9))"
   ]
  },
  {
   "cell_type": "code",
   "execution_count": null,
   "metadata": {
    "id": "XrobiNsy6AEU"
   },
   "outputs": [],
   "source": [
    "cci = df[(df[\"indic\"] == \"BS-CSMCI\") & (df[\"s_adj\"] == \"NSA\")]\n",
    "cci = cci[[\"country\", datetime(2020,10,1)]].set_index(\"country\")\n",
    "cci"
   ]
  },
  {
   "cell_type": "code",
   "execution_count": null,
   "metadata": {
    "id": "VwsI5RuY6AEU"
   },
   "outputs": [],
   "source": [
    "cci.plot.bar(figsize=(16,9))"
   ]
  },
  {
   "cell_type": "code",
   "execution_count": null,
   "metadata": {
    "id": "UGUs0NJq6AEU"
   },
   "outputs": [],
   "source": [
    "realnames_g = eurostat.get_dic('geo')\n",
    "realnames_g['DE'] = \"Germany\"\n",
    "realnames_g['EA19'] = \"EURO\"\n",
    "realnames_g['EU27_2020'] = \"EU\""
   ]
  },
  {
   "cell_type": "code",
   "execution_count": null,
   "metadata": {
    "id": "uVp5N9eW6AEU"
   },
   "outputs": [],
   "source": [
    "cci.index = [realnames_g[i] for i in cci.index]\n",
    "cci.sort_values(datetime(2020, 10, 1)).plot.barh(figsize=(9, 9))"
   ]
  },
  {
   "cell_type": "markdown",
   "metadata": {
    "id": "NJWMuuxu6AEU"
   },
   "source": [
    "## Histogramm"
   ]
  },
  {
   "cell_type": "code",
   "execution_count": null,
   "metadata": {
    "id": "cxP1PEHM6AEU"
   },
   "outputs": [],
   "source": [
    "cci.plot.hist()"
   ]
  },
  {
   "cell_type": "code",
   "execution_count": null,
   "metadata": {
    "id": "T1gHAnZ86AEU"
   },
   "outputs": [],
   "source": [
    "cci.plot.hist(bins=20)"
   ]
  },
  {
   "cell_type": "markdown",
   "metadata": {
    "id": "o3mwVd7S6AEU"
   },
   "source": [
    "# Fieberkurven"
   ]
  },
  {
   "cell_type": "markdown",
   "metadata": {
    "id": "utrlGi8Q6AEU"
   },
   "source": [
    "# Boxplots"
   ]
  },
  {
   "cell_type": "markdown",
   "metadata": {
    "id": "f50KbhwM6AEU"
   },
   "source": [
    "## 10 Jahre"
   ]
  },
  {
   "cell_type": "code",
   "execution_count": null,
   "metadata": {
    "id": "F8JtXFPg6AEU"
   },
   "outputs": [],
   "source": [
    "csmci = df[(df[\"indic\"] == \"BS-CSMCI\") & (df[\"s_adj\"] == \"NSA\")]\n",
    "csmci"
   ]
  },
  {
   "cell_type": "code",
   "execution_count": null,
   "metadata": {
    "id": "X_iMG6R26AEU"
   },
   "outputs": [],
   "source": [
    "columns = [datetime(y, m, 1) for y in range(2010, 2021) for m in range(1, 13)]\n",
    "# die letzten beiden Spalten sind für November/Dezember 2020, da gibt es heute noch keine Daten\n",
    "csmci_unwrapped = pd.melt(csmci[[\"country\"] + columns[:-2]].dropna(), \n",
    "                          id_vars=[\"country\"], var_name=\"month\", value_name=\"csmci\")\n",
    "csmci_unwrapped"
   ]
  },
  {
   "cell_type": "code",
   "execution_count": null,
   "metadata": {
    "id": "kQplXNSr6AEU"
   },
   "outputs": [],
   "source": [
    "import matplotlib.pyplot as plt\n",
    "import seaborn as sns\n",
    "csmci_unwrapped[\"country\"] = [realnames_g[i] for i in csmci_unwrapped[\"country\"]]\n",
    "labels = csmci_unwrapped.groupby(\"country\").agg({\"csmci\": \"median\"}).sort_values(\"csmci\").index.values\n",
    "plt.figure(figsize=(8, 10))\n",
    "sns.boxplot(y=\"country\", x=\"csmci\", data=csmci_unwrapped, order=labels, palette=\"viridis\")"
   ]
  },
  {
   "cell_type": "code",
   "execution_count": null,
   "metadata": {
    "id": "Hipsiojf6AEU"
   },
   "outputs": [],
   "source": []
  },
  {
   "cell_type": "markdown",
   "metadata": {
    "id": "Up_3mlmO6AEU"
   },
   "source": [
    "## 20 Jahre"
   ]
  },
  {
   "cell_type": "code",
   "execution_count": null,
   "metadata": {
    "id": "FG8sMCot6AEU"
   },
   "outputs": [],
   "source": [
    "csmci = df[(df[\"indic\"] == \"BS-CSMCI\") & (df[\"s_adj\"] == \"NSA\")]\n",
    "columns = [datetime(y, m, 1) for y in range(2000, 2021) for m in range(1, 13)]\n",
    "# die letzten beiden Spalten sind für November/Dezember 2020, da gibt es heute noch keine Daten\n",
    "csmci_unwrapped = pd.melt(csmci[[\"country\"] + columns[:-2]].dropna(), \n",
    "                          id_vars=[\"country\"], var_name=\"month\", value_name=\"csmci\")"
   ]
  },
  {
   "cell_type": "code",
   "execution_count": null,
   "metadata": {
    "id": "0fMmPVn56AEU"
   },
   "outputs": [],
   "source": [
    "csmci_unwrapped[\"country\"] = [realnames_g[i] for i in csmci_unwrapped[\"country\"]]"
   ]
  },
  {
   "cell_type": "code",
   "execution_count": null,
   "metadata": {
    "id": "SYzq_OF26AEU"
   },
   "outputs": [],
   "source": [
    "labels = csmci_unwrapped.groupby(\"country\").agg({\"csmci\": \"median\"}).sort_values(\"csmci\").index.values"
   ]
  },
  {
   "cell_type": "code",
   "execution_count": null,
   "metadata": {
    "id": "aQBKOttj6AEU"
   },
   "outputs": [],
   "source": [
    "plt.figure(figsize=(8, 10))\n",
    "sns.boxplot(y=\"country\", x=\"csmci\", data=csmci_unwrapped, order=labels, palette=\"viridis\")"
   ]
  },
  {
   "cell_type": "markdown",
   "metadata": {},
   "source": [
    "## Violinplot"
   ]
  },
  {
   "cell_type": "code",
   "execution_count": null,
   "metadata": {
    "id": "UrwneCSZ6AEU",
    "scrolled": true
   },
   "outputs": [],
   "source": [
    "plt.figure(figsize=(8, 16))\n",
    "sns.violinplot(y=\"country\", x=\"csmci\", data=csmci_unwrapped, order=labels, palette=\"viridis\")"
   ]
  },
  {
   "cell_type": "code",
   "execution_count": null,
   "metadata": {
    "id": "bMAOKIsg6AEU"
   },
   "outputs": [],
   "source": [
    "sns.violinplot(y=\"country\", x=\"csmci\", \n",
    "               data=csmci_unwrapped[csmci_unwrapped[\"country\"].isin([\"Greece\", \"Germany\", \"Sweden\", \"Denmark\"])],\n",
    "               order=[\"Greece\", \"Germany\", \"Sweden\", \"Denmark\"], palette=\"viridis\")"
   ]
  }
 ],
 "metadata": {
  "colab": {
   "name": "ix-jupyter-visualisierung-1.ipynb",
   "provenance": []
  },
  "kernelspec": {
   "display_name": "Python 3",
   "language": "python",
   "name": "python3"
  },
  "language_info": {
   "codemirror_mode": {
    "name": "ipython",
    "version": 3
   },
   "file_extension": ".py",
   "mimetype": "text/x-python",
   "name": "python",
   "nbconvert_exporter": "python",
   "pygments_lexer": "ipython3",
   "version": "3.8.5"
  },
  "varInspector": {
   "cols": {
    "lenName": 16,
    "lenType": 16,
    "lenVar": 40
   },
   "kernels_config": {
    "python": {
     "delete_cmd_postfix": "",
     "delete_cmd_prefix": "del ",
     "library": "var_list.py",
     "varRefreshCmd": "print(var_dic_list())"
    },
    "r": {
     "delete_cmd_postfix": ") ",
     "delete_cmd_prefix": "rm(",
     "library": "var_list.r",
     "varRefreshCmd": "cat(var_dic_list()) "
    }
   },
   "types_to_exclude": [
    "module",
    "function",
    "builtin_function_or_method",
    "instance",
    "_Feature"
   ],
   "window_display": false
  }
 },
 "nbformat": 4,
 "nbformat_minor": 1
}
