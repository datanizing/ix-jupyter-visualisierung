{
 "cells": [
  {
   "cell_type": "markdown",
   "metadata": {},
   "source": [
    "# Dataset"
   ]
  },
  {
   "cell_type": "code",
   "execution_count": null,
   "metadata": {},
   "outputs": [],
   "source": [
    "!pip install eurostat"
   ]
  },
  {
   "cell_type": "code",
   "execution_count": null,
   "metadata": {},
   "outputs": [],
   "source": [
    "import pandas as pd\n",
    "import eurostat\n",
    "df = eurostat.get_data_df(\"ei_bsco_m\")\n",
    "df"
   ]
  },
  {
   "cell_type": "code",
   "execution_count": null,
   "metadata": {},
   "outputs": [],
   "source": [
    "df[[\"indic\", \"s_adj\", \"unit\", \"geo\\\\time\"]].describe()"
   ]
  },
  {
   "cell_type": "code",
   "execution_count": null,
   "metadata": {},
   "outputs": [],
   "source": [
    "df[\"indic\"].unique()"
   ]
  },
  {
   "cell_type": "markdown",
   "metadata": {},
   "source": [
    "Spalten aufräumen"
   ]
  },
  {
   "cell_type": "code",
   "execution_count": null,
   "metadata": {},
   "outputs": [],
   "source": [
    "df = df.rename(columns={\"geo\\\\time\": \"country\"})"
   ]
  },
  {
   "cell_type": "code",
   "execution_count": null,
   "metadata": {},
   "outputs": [],
   "source": []
  },
  {
   "cell_type": "code",
   "execution_count": null,
   "metadata": {},
   "outputs": [],
   "source": [
    "from datetime import datetime\n",
    "df.columns = [datetime.strptime(f.split(\"M\")[0] + \"-\" + f.split(\"M\")[1] + \"-01\", \"%Y-%m-%d\")\n",
    "                if f.startswith(\"20\") or f.startswith(\"19\") else f for f in df.columns]"
   ]
  },
  {
   "cell_type": "code",
   "execution_count": null,
   "metadata": {},
   "outputs": [],
   "source": [
    "realnames_i = eurostat.get_dic('indic')\n",
    "[f'{i}: {realnames_i[i]}' for i in df[\"indic\"].unique()]"
   ]
  },
  {
   "cell_type": "markdown",
   "metadata": {},
   "source": [
    "# Balkendiagramm und Histogramm"
   ]
  },
  {
   "cell_type": "markdown",
   "metadata": {},
   "source": [
    "## Barchart"
   ]
  },
  {
   "cell_type": "code",
   "execution_count": null,
   "metadata": {},
   "outputs": [],
   "source": [
    "de_cci = df[(df[\"country\"] == \"DE\") & (df[\"indic\"] == \"BS-CSMCI\") & (df[\"s_adj\"] == \"NSA\")]\n",
    "de_cci = de_cci[[c for c in de_cci.columns if isinstance(c, datetime) and (c.year==2020 or c.year==2019)]]\n",
    "de_cci.index = [\"Consumer confidence indicator\"]\n",
    "de_cci.transpose()[::-1].plot.bar(figsize=(16,9))"
   ]
  },
  {
   "cell_type": "code",
   "execution_count": null,
   "metadata": {},
   "outputs": [],
   "source": [
    "cci = df[(df[\"indic\"] == \"BS-CSMCI\") & (df[\"s_adj\"] == \"NSA\")]\n",
    "cci = cci[[\"country\", datetime(2020,10,1)]].set_index(\"country\")\n",
    "cci"
   ]
  },
  {
   "cell_type": "code",
   "execution_count": null,
   "metadata": {},
   "outputs": [],
   "source": [
    "cci.plot.bar(figsize=(16,9))"
   ]
  },
  {
   "cell_type": "code",
   "execution_count": null,
   "metadata": {},
   "outputs": [],
   "source": [
    "realnames_g = eurostat.get_dic('geo')\n",
    "realnames_g['DE'] = \"Germany\"\n",
    "realnames_g['EA19'] = \"EURO\"\n",
    "realnames_g['EU27_2020'] = \"EU\""
   ]
  },
  {
   "cell_type": "code",
   "execution_count": null,
   "metadata": {},
   "outputs": [],
   "source": [
    "cci.index = [realnames_g[i] for i in cci.index]\n",
    "cci.sort_values(datetime(2020, 10, 1)).plot.barh(figsize=(9, 9))"
   ]
  },
  {
   "cell_type": "markdown",
   "metadata": {},
   "source": [
    "## Histogramm"
   ]
  },
  {
   "cell_type": "code",
   "execution_count": null,
   "metadata": {},
   "outputs": [],
   "source": [
    "cci.plot.hist()"
   ]
  },
  {
   "cell_type": "code",
   "execution_count": null,
   "metadata": {},
   "outputs": [],
   "source": [
    "cci.plot.hist(bins=20)"
   ]
  },
  {
   "cell_type": "markdown",
   "metadata": {},
   "source": [
    "# Fieberkurven"
   ]
  },
  {
   "cell_type": "markdown",
   "metadata": {},
   "source": [
    "# Boxplots"
   ]
  },
  {
   "cell_type": "markdown",
   "metadata": {},
   "source": [
    "## 10 Jahre"
   ]
  },
  {
   "cell_type": "code",
   "execution_count": null,
   "metadata": {},
   "outputs": [],
   "source": [
    "csmci = df[(df[\"indic\"] == \"BS-CSMCI\") & (df[\"s_adj\"] == \"NSA\")]\n",
    "csmci"
   ]
  },
  {
   "cell_type": "code",
   "execution_count": null,
   "metadata": {},
   "outputs": [],
   "source": [
    "columns = [datetime(y, m, 1) for y in range(2010, 2021) for m in range(1, 13)]\n",
    "# die letzten beiden Spalten sind für November/Dezember 2020, da gibt es heute noch keine Daten\n",
    "csmci_unwrapped = pd.melt(csmci[[\"country\"] + columns[:-2]].dropna(), \n",
    "                          id_vars=[\"country\"], var_name=\"month\", value_name=\"csmci\")\n",
    "csmci_unwrapped"
   ]
  },
  {
   "cell_type": "code",
   "execution_count": null,
   "metadata": {},
   "outputs": [],
   "source": [
    "import matplotlib.pyplot as plt\n",
    "import seaborn as sns\n",
    "csmci_unwrapped[\"country\"] = [realnames_g[i] for i in csmci_unwrapped[\"country\"]]\n",
    "labels = csmci_unwrapped.groupby(\"country\").agg({\"csmci\": \"median\"}).sort_values(\"csmci\").index.values\n",
    "plt.figure(figsize=(8, 10))\n",
    "sns.boxplot(y=\"country\", x=\"csmci\", data=csmci_unwrapped, order=labels, palette=\"viridis\")"
   ]
  },
  {
   "cell_type": "code",
   "execution_count": null,
   "metadata": {},
   "outputs": [],
   "source": []
  },
  {
   "cell_type": "markdown",
   "metadata": {},
   "source": [
    "## 20 Jahre"
   ]
  },
  {
   "cell_type": "code",
   "execution_count": null,
   "metadata": {},
   "outputs": [],
   "source": [
    "csmci = df[(df[\"indic\"] == \"BS-CSMCI\") & (df[\"s_adj\"] == \"NSA\")]\n",
    "columns = [datetime(y, m, 1) for y in range(2000, 2021) for m in range(1, 13)]\n",
    "# die letzten beiden Spalten sind für November/Dezember 2020, da gibt es heute noch keine Daten\n",
    "csmci_unwrapped = pd.melt(csmci[[\"country\"] + columns[:-2]].dropna(), \n",
    "                          id_vars=[\"country\"], var_name=\"month\", value_name=\"csmci\")"
   ]
  },
  {
   "cell_type": "code",
   "execution_count": null,
   "metadata": {},
   "outputs": [],
   "source": [
    "csmci_unwrapped[\"country\"] = [realnames_g[i] for i in csmci_unwrapped[\"country\"]]"
   ]
  },
  {
   "cell_type": "code",
   "execution_count": null,
   "metadata": {},
   "outputs": [],
   "source": [
    "labels = csmci_unwrapped.groupby(\"country\").agg({\"csmci\": \"median\"}).sort_values(\"csmci\").index.values"
   ]
  },
  {
   "cell_type": "code",
   "execution_count": null,
   "metadata": {},
   "outputs": [],
   "source": [
    "plt.figure(figsize=(8, 10))\n",
    "sns.boxplot(y=\"country\", x=\"csmci\", data=csmci_unwrapped, order=labels, palette=\"viridis\")"
   ]
  },
  {
   "cell_type": "code",
   "execution_count": null,
   "metadata": {
    "scrolled": true
   },
   "outputs": [],
   "source": [
    "plt.figure(figsize=(8, 16))\n",
    "sns.violinplot(y=\"country\", x=\"csmci\", data=csmci_unwrapped, order=labels, palette=\"viridis\")"
   ]
  },
  {
   "cell_type": "code",
   "execution_count": null,
   "metadata": {},
   "outputs": [],
   "source": [
    "sns.violinplot(y=\"country\", x=\"csmci\", \n",
    "               data=csmci_unwrapped[csmci_unwrapped[\"country\"].isin([\"Greece\", \"Germany\", \"Sweden\", \"Denmark\"])],\n",
    "               order=[\"Greece\", \"Germany\", \"Sweden\", \"Denmark\"], palette=\"viridis\")"
   ]
  },
  {
   "cell_type": "markdown",
   "metadata": {},
   "source": [
    "# Zeitreihen"
   ]
  },
  {
   "cell_type": "code",
   "execution_count": null,
   "metadata": {},
   "outputs": [],
   "source": [
    "# Länder wählen\n",
    "cci_mix = df[(df[\"country\"].isin([\"DE\", \"EA19\", \"SE\"])) & \n",
    "             (df[\"indic\"] == \"BS-CSMCI\") & (df[\"s_adj\"] == \"NSA\")]\n",
    "# nur bestimmte Spalte behalten und transponieren (Zeit nach unten)\n",
    "cci_mix = cci_mix[[c for c in cci_mix.columns \n",
    "                     if (isinstance(c, datetime) and c.year>=2000) or c == \"country\"]].set_index(\"country\").transpose()\n",
    "# Index in Zeit wandeln\n",
    "cci_mix.index = pd.DatetimeIndex(cci_mix.index)"
   ]
  },
  {
   "cell_type": "code",
   "execution_count": null,
   "metadata": {},
   "outputs": [],
   "source": [
    "cci_mix.plot()"
   ]
  },
  {
   "cell_type": "code",
   "execution_count": null,
   "metadata": {},
   "outputs": [],
   "source": [
    "cci_mix.resample(\"Q\").mean().plot()"
   ]
  },
  {
   "cell_type": "markdown",
   "metadata": {},
   "source": [
    "# Korrelationen der Indikatoren miteinander vergleichen"
   ]
  },
  {
   "cell_type": "code",
   "execution_count": null,
   "metadata": {},
   "outputs": [],
   "source": [
    "import scipy.stats as stats\n",
    "indicators = df[\"indic\"].unique()\n",
    "corr = []\n",
    "for i1 in indicators:\n",
    "    res = []\n",
    "    d1 = df[(df[\"indic\"] == i1) & (df[\"s_adj\"] == \"NSA\") & (df[\"country\"] == \"DE\")].transpose()\n",
    "    for i2 in indicators:\n",
    "        d2 = df[(df[\"indic\"] == i2) & (df[\"s_adj\"] == \"NSA\") & (df[\"country\"] == \"DE\")].transpose()\n",
    "        r, p = stats.pearsonr(d1[[isinstance(d, datetime) and d.year>=2000 for d in d1.index]].iloc[:,0].values, \n",
    "                              d2[[isinstance(d, datetime) and d.year>=2000 for d in d2.index]].iloc[:,0].values)\n",
    "        res.append(r)\n",
    "    corr.append(res)"
   ]
  },
  {
   "cell_type": "code",
   "execution_count": null,
   "metadata": {},
   "outputs": [],
   "source": [
    "y20 = [datetime(y, m, 1) for y in range(2000, 2021) for m in range(1, 13)][:-2]\n",
    "de20 = df[(df[\"s_adj\"] == \"NSA\") & (df[\"country\"] == \"DE\")].set_index(\"indic\")[y20].transpose()\n",
    "de20.index = pd.DatetimeIndex(de20.index)"
   ]
  },
  {
   "cell_type": "code",
   "execution_count": null,
   "metadata": {},
   "outputs": [],
   "source": [
    "de20"
   ]
  },
  {
   "cell_type": "code",
   "execution_count": null,
   "metadata": {},
   "outputs": [],
   "source": [
    "import scipy.stats as stats\n",
    "corr = []\n",
    "indicators = de20.columns\n",
    "# Korrelationen berechnen\n",
    "for i1 in indicators:\n",
    "    res = []\n",
    "    for i2 in indicators:\n",
    "        r, p = stats.pearsonr(de20[i1].values, de20[i2].values)\n",
    "        res.append(r)\n",
    "    corr.append(res)\n",
    "\n",
    "# in Dataframe mit richtigen Spalte und Zeilen wandeln\n",
    "real_indicators = [realnames_i[i] for i in indicators]\n",
    "ihm = pd.DataFrame(corr, index=real_indicators, columns=real_indicators)\n",
    "ihm"
   ]
  },
  {
   "cell_type": "code",
   "execution_count": null,
   "metadata": {},
   "outputs": [],
   "source": [
    "import matplotlib.pyplot as plt\n",
    "import seaborn as sns\n",
    "plt.figure(figsize=(12,12))\n",
    "sns.heatmap(ihm, cmap=\"viridis\", vmin=-1, vmax=1)"
   ]
  },
  {
   "cell_type": "code",
   "execution_count": null,
   "metadata": {},
   "outputs": [],
   "source": [
    "plt.figure(figsize=(12,12))\n",
    "sns.heatmap(ihm, cmap=\"RdBu\", vmin=-1, vmax=1)"
   ]
  },
  {
   "cell_type": "code",
   "execution_count": null,
   "metadata": {},
   "outputs": [],
   "source": [
    "ihm.to_excel('ihm.xlsx')"
   ]
  },
  {
   "cell_type": "code",
   "execution_count": null,
   "metadata": {},
   "outputs": [],
   "source": []
  },
  {
   "cell_type": "code",
   "execution_count": null,
   "metadata": {},
   "outputs": [],
   "source": [
    "de = df[(df[\"country\"] == \"DE\") & (df[\"s_adj\"] == \"NSA\")]\n",
    "de"
   ]
  },
  {
   "cell_type": "code",
   "execution_count": null,
   "metadata": {},
   "outputs": [],
   "source": [
    "de20.plot.scatter(x=\"BS-SFSH\", y=\"BS-CSMCI\")"
   ]
  },
  {
   "cell_type": "code",
   "execution_count": null,
   "metadata": {},
   "outputs": [],
   "source": [
    "import seaborn as sns\n",
    "import scipy.stats as stats\n",
    "sns.jointplot(x=de20[\"BS-SFSH\"], y=de20[\"BS-CSMCI\"], kind=\"reg\")"
   ]
  },
  {
   "cell_type": "markdown",
   "metadata": {
    "slideshow": {
     "slide_type": "subslide"
    }
   },
   "source": [
    "Beispiel für ein Diagramm mit zu vielen Details :D"
   ]
  },
  {
   "cell_type": "code",
   "execution_count": null,
   "metadata": {
    "scrolled": false
   },
   "outputs": [],
   "source": [
    "import matplotlib.pyplot as plt\n",
    "g = sns.jointplot(x=de20[\"BS-SFSH\"], y=de20[\"BS-CSMCI\"], scatter=False, kind=\"reg\")\n",
    "#g.annotate(stats.pearsonr)\n",
    "# aktuelle Ersparnisse als Größe der Bubbles\n",
    "# take only first month\n",
    "de20s = de20[de20.index.month==1].copy()\n",
    "# take every other year\n",
    "de20s = de20s[::2]\n",
    "# remove M01 from index\n",
    "de20s.index = de20s.index.map(str).str.replace(\"-01-01 00:00:00\", \"\")\n",
    "sns.scatterplot(x=de20s[\"BS-SFSH\"], y=de20s[\"BS-CSMCI\"], s=de20s[\"BS-SV-PR\"],\n",
    "                hue=de20s.index, legend=True)\n",
    "# Detailplot ohne Legende\n",
    "sns.scatterplot(x=de20[\"BS-SFSH\"], y=de20[\"BS-CSMCI\"], s=de20[\"BS-SV-PR\"],\n",
    "                hue=de20.index, legend=False)\n",
    "plt.gca().annotate(\"pearsonr=%0.2f p=%e\"%stats.pearsonr(de20[\"BS-SFSH\"], de20[\"BS-CSMCI\"]), xy=(5, -25))"
   ]
  },
  {
   "cell_type": "code",
   "execution_count": null,
   "metadata": {},
   "outputs": [],
   "source": [
    "import scipy.stats\n",
    "scipy.stats.linregress(de20[\"BS-SFSH\"], de20[\"BS-CSMCI\"])"
   ]
  },
  {
   "cell_type": "code",
   "execution_count": null,
   "metadata": {
    "scrolled": false
   },
   "outputs": [],
   "source": [
    "import geopandas\n",
    "bl_geo = geopandas.read_file(\"europe.geo.json\")\n",
    "# die EU verwendet UK als Name, richtig ist aber GB\n",
    "bl_geo.loc[bl_geo[\"iso_a2\"] == \"GB\", \"iso_a2\"] = \"UK\"\n",
    "bl_geo[[\"iso_a2\", \"geometry\"]]"
   ]
  },
  {
   "cell_type": "code",
   "execution_count": null,
   "metadata": {},
   "outputs": [],
   "source": [
    "# Now that Geopandas what is the \"encoding\" of your coordinates, you can perform any coordinate reprojection\n",
    "#bl_geo = bl_geo.to_crs(epsg=3857)"
   ]
  },
  {
   "cell_type": "code",
   "execution_count": null,
   "metadata": {},
   "outputs": [],
   "source": [
    "bl_geo[~bl_geo[\"iso_a2\"].isin([\"RU\", \"IS\", \"UA\", \"BY\", \"MD\"])].plot(figsize=(10,10))"
   ]
  },
  {
   "cell_type": "code",
   "execution_count": null,
   "metadata": {
    "scrolled": false
   },
   "outputs": [],
   "source": [
    "hm = df[(df[\"indic\"] == \"BS-CSMCI\") & (df[\"s_adj\"] == \"NSA\")]\n",
    "ghm = geopandas.GeoDataFrame(pd.merge(hm, bl_geo, left_on=\"country\", right_on='iso_a2', how=\"outer\"))"
   ]
  },
  {
   "cell_type": "code",
   "execution_count": null,
   "metadata": {},
   "outputs": [],
   "source": [
    "ghm.plot(column=datetime(2020, 8, 1), legend=True, legend_kwds={'orientation': \"horizontal\"}, figsize=(10,10))"
   ]
  },
  {
   "cell_type": "code",
   "execution_count": null,
   "metadata": {},
   "outputs": [],
   "source": [
    "ghm[~ghm[\"iso_a2\"].isin([\"RU\", \"IS\", \"UA\", \"BY\", \"MD\"])].plot(column=datetime(2020, 8, 1), \n",
    "         legend=True, \n",
    "         legend_kwds={'orientation': \"horizontal\"}, \n",
    "         missing_kwds={\n",
    "           \"color\": \"lightgrey\",\n",
    "    },\n",
    "         figsize=(10,10))"
   ]
  },
  {
   "cell_type": "code",
   "execution_count": null,
   "metadata": {},
   "outputs": [],
   "source": [
    "    "
   ]
  },
  {
   "cell_type": "code",
   "execution_count": null,
   "metadata": {},
   "outputs": [],
   "source": []
  },
  {
   "cell_type": "code",
   "execution_count": null,
   "metadata": {},
   "outputs": [],
   "source": []
  },
  {
   "cell_type": "code",
   "execution_count": null,
   "metadata": {},
   "outputs": [],
   "source": [
    "toc = eurostat.get_toc_df()\n",
    "toc"
   ]
  },
  {
   "cell_type": "code",
   "execution_count": null,
   "metadata": {},
   "outputs": [],
   "source": []
  },
  {
   "cell_type": "code",
   "execution_count": null,
   "metadata": {},
   "outputs": [],
   "source": []
  },
  {
   "cell_type": "code",
   "execution_count": null,
   "metadata": {},
   "outputs": [],
   "source": []
  },
  {
   "cell_type": "code",
   "execution_count": null,
   "metadata": {},
   "outputs": [],
   "source": []
  },
  {
   "cell_type": "code",
   "execution_count": null,
   "metadata": {},
   "outputs": [],
   "source": []
  },
  {
   "cell_type": "code",
   "execution_count": null,
   "metadata": {},
   "outputs": [],
   "source": []
  },
  {
   "cell_type": "code",
   "execution_count": null,
   "metadata": {},
   "outputs": [],
   "source": []
  },
  {
   "cell_type": "code",
   "execution_count": null,
   "metadata": {},
   "outputs": [],
   "source": []
  },
  {
   "cell_type": "code",
   "execution_count": null,
   "metadata": {},
   "outputs": [],
   "source": []
  },
  {
   "cell_type": "code",
   "execution_count": null,
   "metadata": {},
   "outputs": [],
   "source": [
    "import matplotlib.pyplot as plt\n",
    "hm = df[(df[\"indic\"] == \"BS-CSMCI\") & (df[\"s_adj\"] == \"NSA\")].set_index(\"country\")\n",
    "columns = hm.columns\n",
    "realnames = eurostat.get_dic('geo')\n",
    "realnames[\"DE\"] = \"Germany\"\n",
    "#hm.index = hm.index.map(lambda i: realnames[i])\n",
    "plt.figure(figsize=(24,24))\n",
    "sns.heatmap(hm[sorted([c for c in hm.columns if isinstance(c, datetime) and c.year == 2020])].dropna(), cmap='viridis')"
   ]
  },
  {
   "cell_type": "code",
   "execution_count": null,
   "metadata": {},
   "outputs": [],
   "source": [
    "hms = hm.reindex([\"FI\", \"SE\", \"DK\", \"UK\", \"IE\", \"NL\", \"BE\", \"FR\", \"LU\", \"DE\", \"AT\", \"SI\", \"CZ\", \"HU\", \n",
    "                  \"SK\", \"PL\", \"LT\", \"LV\", \"EE\", \"HR\", \"IT\", \"ES\", \"PT\", \"MT\", \"EL\", \"CY\", \"RO\", \"BG\", \n",
    "                  \"RS\", \"MK\", \"ME\", \"AL\", \"TR\"])\n",
    "plt.figure(figsize=(24,24))\n",
    "hms.index = hms.index.map(lambda i: realnames[i])\n",
    "sns.heatmap(hms[sorted([c for c in hms.columns if isinstance(c, datetime) and c.year == 2020])].dropna(), cmap='viridis')"
   ]
  },
  {
   "cell_type": "code",
   "execution_count": null,
   "metadata": {
    "scrolled": false
   },
   "outputs": [],
   "source": [
    "pd.set_option('display.max_rows', 100)\n",
    "hm[sorted([c for c in hm.columns if isinstance(c, datetime) and c.year == 2020])]"
   ]
  },
  {
   "cell_type": "code",
   "execution_count": null,
   "metadata": {
    "scrolled": true
   },
   "outputs": [],
   "source": [
    "hm.index"
   ]
  }
 ],
 "metadata": {
  "kernelspec": {
   "display_name": "Python 3",
   "language": "python",
   "name": "python3"
  },
  "language_info": {
   "codemirror_mode": {
    "name": "ipython",
    "version": 3
   },
   "file_extension": ".py",
   "mimetype": "text/x-python",
   "name": "python",
   "nbconvert_exporter": "python",
   "pygments_lexer": "ipython3",
   "version": "3.8.5"
  },
  "varInspector": {
   "cols": {
    "lenName": 16,
    "lenType": 16,
    "lenVar": 40
   },
   "kernels_config": {
    "python": {
     "delete_cmd_postfix": "",
     "delete_cmd_prefix": "del ",
     "library": "var_list.py",
     "varRefreshCmd": "print(var_dic_list())"
    },
    "r": {
     "delete_cmd_postfix": ") ",
     "delete_cmd_prefix": "rm(",
     "library": "var_list.r",
     "varRefreshCmd": "cat(var_dic_list()) "
    }
   },
   "types_to_exclude": [
    "module",
    "function",
    "builtin_function_or_method",
    "instance",
    "_Feature"
   ],
   "window_display": false
  }
 },
 "nbformat": 4,
 "nbformat_minor": 4
}
